{
  "nbformat": 4,
  "nbformat_minor": 0,
  "metadata": {
    "colab": {
      "provenance": [],
      "authorship_tag": "ABX9TyMthREGrKze9xjdQVbXYRex",
      "include_colab_link": true
    },
    "kernelspec": {
      "name": "python3",
      "display_name": "Python 3"
    },
    "language_info": {
      "name": "python"
    }
  },
  "cells": [
    {
      "cell_type": "markdown",
      "metadata": {
        "id": "view-in-github",
        "colab_type": "text"
      },
      "source": [
        "<a href=\"https://colab.research.google.com/github/dasom17/BP_05_Ch3/blob/main/Untitled3.ipynb\" target=\"_parent\"><img src=\"https://colab.research.google.com/assets/colab-badge.svg\" alt=\"Open In Colab\"/></a>"
      ]
    },
    {
      "cell_type": "markdown",
      "source": [
        "1. 사용자로부터 두 개의 정수를 받아서 정수의 합, 정수의 차, 정수의 곱, 정수의 펑균, 큰 수 작은 수를 계산하여 화면에 출럭하는 프로그램을 작성하라. 파이썬이 제공하는 내장 함수 max(x, y), min(x, y)을 사용해보자."
      ],
      "metadata": {
        "id": "FV5AMxqJZJbN"
      }
    },
    {
      "cell_type": "code",
      "execution_count": 4,
      "metadata": {
        "colab": {
          "base_uri": "https://localhost:8080/"
        },
        "id": "iVcIJiHNYG94",
        "outputId": "64bc59bb-7e93-4f46-afe1-9fff82a9e497"
      },
      "outputs": [
        {
          "output_type": "stream",
          "name": "stdout",
          "text": [
            "정수 x를 입력하세요 : 9\n",
            "정수 y를 입력하세요 : 6\n",
            "두 수의 합은? : 15 입니다.\n",
            "두 수의 차는? : 3 입니다.\n",
            "두 수의 곱은? : 54 입니다.\n",
            "두 수의 평균은? : 7.5 입니다.\n",
            "큰 수는? : 9 입니다.\n",
            "작은 수는? : 6 입니다.\n"
          ]
        }
      ],
      "source": [
        "x = int(input(\"정수 x를 입력하세요 : \"))\n",
        "y = int(input(\"정수 y를 입력하세요 : \"))\n",
        "print(\"두 수의 합은? :\", x+y,\"입니다.\")\n",
        "print(\"두 수의 차는? :\", x-y,\"입니다.\")\n",
        "print(\"두 수의 곱은? :\", x*y,\"입니다.\")\n",
        "print(\"두 수의 평균은? :\", (x+y)/2,\"입니다.\")\n",
        "print(\"큰 수는? :\", max(x,y),\"입니다.\")\n",
        "print(\"작은 수는? :\", min(x,y),\"입니다.\")"
      ]
    },
    {
      "cell_type": "markdown",
      "source": [
        "2. 원기둥의 부피를 계산하는 프로그랩을 작성해보자. 원기둥의 부피는 다옴과 같이 계산 한다. \n",
        "힌트) vol = 3.141592*r**2 h와 같은 수식을 사용한다."
      ],
      "metadata": {
        "id": "BOPzFt9NbuXF"
      }
    },
    {
      "cell_type": "code",
      "source": [
        "r = float(input(\"r의 값은?: \"))\n",
        "h = float(input(\"h의 값은?: \"))\n",
        "\n",
        "vol = 3.141592 * r**2 * h\n",
        "print(\"원기둥의 부피:\", vol)"
      ],
      "metadata": {
        "colab": {
          "base_uri": "https://localhost:8080/"
        },
        "id": "O-kdFseeb-Ib",
        "outputId": "a447913b-6649-4a9b-f86c-98289a234fef"
      },
      "execution_count": 1,
      "outputs": [
        {
          "output_type": "stream",
          "name": "stdout",
          "text": [
            "r의 값은?: 10\n",
            "h의 값은?: 10\n",
            "원기둥의 부피: 3141.592\n"
          ]
        }
      ]
    },
    {
      "cell_type": "markdown",
      "source": [
        "3. 사용자로부터 정수를 받아서 정수의 자리수의 합을 계산하는 프로그랩을 작성하여 보자. 예릍 들어서 사용자가 1234를 입럭하였다면 1+2+3+4를 계산하면 된다. 나머지 연산자와 정수 나눗셈 연산자 //를 적극적으로 사용해보자.\n",
        "힌트) 자리수는 number % 10으로 계산할 수 있다. 10의 자리수는 number = number // 10한 후에 등일한 처리를 되풀이 한다. 단 반복문은 사용하지 않는다."
      ],
      "metadata": {
        "id": "ls-VENLWV6kE"
      }
    },
    {
      "cell_type": "code",
      "source": [
        "number = int(input(\"정수를 입력하시오: \"))\n",
        "\n",
        "sum = 0\n",
        "#코딩은 초기화가 중요함. 꼭 초기화해주기\n",
        "sum = sum + number % 10\n",
        "number = number // 10\n",
        "sum = sum + number % 10\n",
        "number = number // 10\n",
        "sum = sum + number % 10\n",
        "number = number // 10\n",
        "sum = sum + number % 10\n",
        "number = number // 10\n",
        "\n",
        "print(\"자리수의 합은: \", str(sum))"
      ],
      "metadata": {
        "colab": {
          "base_uri": "https://localhost:8080/"
        },
        "id": "SwRLYsG4Wc65",
        "outputId": "fe21f7a8-c0b4-4da7-ae30-a3f9d1a35b02"
      },
      "execution_count": 2,
      "outputs": [
        {
          "output_type": "stream",
          "name": "stdout",
          "text": [
            "정수를 입력하시오: 1234\n",
            "자리수의 합은:  10\n"
          ]
        }
      ]
    },
    {
      "cell_type": "markdown",
      "source": [
        "4. 사용자로부터 두 점의 좌표 (xl, yl)과 (x2, y2)를 입럭받아서 두 점 사이의 거리를 계산하는 프로그램을 작성해보자. 스크립트 모드로 작성하라. 거리는 다음 식으로 계산한다.\n",
        "힌트) 제곱근을 계산하려면 0.5승을 하면 된다. x**0.5하면 x의 제곱근이 계산된다.\n"
      ],
      "metadata": {
        "id": "wfkdkrgJWlq5"
      }
    },
    {
      "cell_type": "code",
      "source": [
        "x1 = int(input(\"x1의 값을 입력하시오.: \"))\n",
        "x2 = int(input(\"x2의 값을 입력하시오.: \"))\n",
        "y1 = int(input(\"y1의 값을 입력하시오.: \"))\n",
        "y2 = int(input(\"y2의 값을 입력하시오.: \"))\n",
        "dist = (((x2 - x1)**2) + ((y2 - y1)**2))** 0.5\n",
        "print(\"두 점 사이의 거리는?\", dist, \"입니다.\")"
      ],
      "metadata": {
        "colab": {
          "base_uri": "https://localhost:8080/"
        },
        "id": "l79Xm9rYW690",
        "outputId": "7a45cac3-6ae7-4aa7-aff3-d024166dc0ac"
      },
      "execution_count": 3,
      "outputs": [
        {
          "output_type": "stream",
          "name": "stdout",
          "text": [
            "x1의 값을 입력하시오.: 0\n",
            "x2의 값을 입력하시오.: 100\n",
            "y1의 값을 입력하시오.: 0\n",
            "y2의 값을 입력하시오.: 100\n",
            "두 점 사이의 거리는? 141.4213562373095 입니다.\n"
          ]
        }
      ]
    },
    {
      "cell_type": "markdown",
      "source": [
        "5. 1번 문제에서 계산한 거리가 맞는지, 터틀그래픽으로 확인해보자. 거북이를 읜쪽으로 45도 회전하여 141만큼 전진시킨다. 다시 거북이를 (0, 0)으로 이동하고 0도를 가리키게 한 후에 100만큼 전진하고 왼쪽으로 90도 회전하여 100만큼 전진한다. 화면에 그려진 직선이 일치하는가?\n",
        "힌트) 거북이의 방향을 섦정하려면 setheadingO을 사옹하는 것이 편리하다. 예를 들어서 0도를 가리키게 하려면 setheading(0)이 된다."
      ],
      "metadata": {
        "id": "KXNv4tWFW6I9"
      }
    },
    {
      "cell_type": "code",
      "source": [
        "import turtle\n",
        "t = turtle.Turtle()\n",
        "t.shape(\"turtle\")\n",
        "t.left(45)\n",
        "t.fd(141)\n",
        "t.setheading(0)\n",
        "t.goto(0,0)\n",
        "t.fd(100)\n",
        "t.lt(90)\n",
        "t.fd(100)\n",
        "t._screen.exitonclick()"
      ],
      "metadata": {
        "id": "NopYioGcXcbw"
      },
      "execution_count": null,
      "outputs": []
    },
    {
      "cell_type": "markdown",
      "source": [
        "6. 사용자로부터 두 점을 입력받아서 터틀 그래픽을 이용하여 두 점을 연결하는 직선을 그린다. 직선의 끝점에 직선의 길이를 계산하여 츨력해보자.\n",
        "힌트) goto(x1, y1)으로 첫 번째 점으로 이동, goto(X2, y2)로 두 번째 점으로 이동하면 된다.\n"
      ],
      "metadata": {
        "id": "4Fd7PkPSYCi1"
      }
    },
    {
      "cell_type": "code",
      "source": [
        "import turtle\n",
        "t = turtle.Turtle()\n",
        "t.shape(\"turtle\")\n",
        "\n",
        "x1 = int(input(\"x1: \"))\n",
        "x1: 0\n",
        "y1 = int(input(\"y1: \"))\n",
        "y1: 0\n",
        "x2 = int(input(\"x2: \"))\n",
        "x2: 100\n",
        "KeyboardInterrupt\n",
        "y2 = int(input(\"y2: \"))\n",
        "y2: 100\n",
        "\n",
        "t.up()\n",
        "t.goto(x1,y1)\n",
        "t.down()\n",
        "t.goto(x2,y2)\n",
        "t.write(\"점의 길이=\" + (str)( ((x1-x2)**2 + (y1-y2)**2)**0.5))"
      ],
      "metadata": {
        "id": "kSXde7uWYWyt"
      },
      "execution_count": null,
      "outputs": []
    },
    {
      "cell_type": "markdown",
      "source": [
        "7.파이썬에서 time()을 호출하면 1970년 1월 1일 이후 흘러온 전체 초가 반환된다. 이것을 적절하게 나누거나 나머지를 구해서 현재 시간의 시와 분을 계산할 수 있을까? 힌트) 전체 초를 60으로 나누어서 몫을 구하면 전체 분이 된다. 이것을 66으로 나눈 나머지가 현재 분이 된다.\n"
      ],
      "metadata": {
        "id": "_D_AQOGmx9e5"
      }
    },
    {
      "cell_type": "code",
      "source": [
        "import time\n",
        "fseconds = time.time() // 60\n",
        "minute = fseconds % 60\n",
        "hour = fseconds //60 &24\n",
        "print(\"현재 시간(영국 그리니치 시각):\", int(hour), \"시\", int(minute), \"분\")"
      ],
      "metadata": {
        "colab": {
          "base_uri": "https://localhost:8080/",
          "height": 227
        },
        "id": "eFxb3Kpd03My",
        "outputId": "f9a84a2f-d853-4eb5-bef8-6878d1004a1d"
      },
      "execution_count": 1,
      "outputs": [
        {
          "output_type": "error",
          "ename": "TypeError",
          "evalue": "ignored",
          "traceback": [
            "\u001b[0;31m---------------------------------------------------------------------------\u001b[0m",
            "\u001b[0;31mTypeError\u001b[0m                                 Traceback (most recent call last)",
            "\u001b[0;32m<ipython-input-1-b8257a4e4711>\u001b[0m in \u001b[0;36m<module>\u001b[0;34m\u001b[0m\n\u001b[1;32m      2\u001b[0m \u001b[0mfseconds\u001b[0m \u001b[0;34m=\u001b[0m \u001b[0mtime\u001b[0m\u001b[0;34m.\u001b[0m\u001b[0mtime\u001b[0m\u001b[0;34m(\u001b[0m\u001b[0;34m)\u001b[0m \u001b[0;34m//\u001b[0m \u001b[0;36m60\u001b[0m\u001b[0;34m\u001b[0m\u001b[0;34m\u001b[0m\u001b[0m\n\u001b[1;32m      3\u001b[0m \u001b[0mminute\u001b[0m \u001b[0;34m=\u001b[0m \u001b[0mfseconds\u001b[0m \u001b[0;34m%\u001b[0m \u001b[0;36m60\u001b[0m\u001b[0;34m\u001b[0m\u001b[0;34m\u001b[0m\u001b[0m\n\u001b[0;32m----> 4\u001b[0;31m \u001b[0mhour\u001b[0m \u001b[0;34m=\u001b[0m \u001b[0mfseconds\u001b[0m \u001b[0;34m//\u001b[0m\u001b[0;36m60\u001b[0m \u001b[0;34m&\u001b[0m\u001b[0;36m24\u001b[0m\u001b[0;34m\u001b[0m\u001b[0;34m\u001b[0m\u001b[0m\n\u001b[0m\u001b[1;32m      5\u001b[0m \u001b[0mprint\u001b[0m\u001b[0;34m(\u001b[0m\u001b[0;34m\"현재 시간(영국 그리니치 시각):\"\u001b[0m\u001b[0;34m,\u001b[0m \u001b[0mint\u001b[0m\u001b[0;34m(\u001b[0m\u001b[0mhour\u001b[0m\u001b[0;34m)\u001b[0m\u001b[0;34m,\u001b[0m \u001b[0;34m\"시\"\u001b[0m\u001b[0;34m,\u001b[0m \u001b[0mint\u001b[0m\u001b[0;34m(\u001b[0m\u001b[0mminute\u001b[0m\u001b[0;34m)\u001b[0m\u001b[0;34m,\u001b[0m \u001b[0;34m\"분\"\u001b[0m\u001b[0;34m)\u001b[0m\u001b[0;34m\u001b[0m\u001b[0;34m\u001b[0m\u001b[0m\n",
            "\u001b[0;31mTypeError\u001b[0m: unsupported operand type(s) for &: 'float' and 'int'"
          ]
        }
      ]
    },
    {
      "cell_type": "markdown",
      "source": [
        "8. 움직이는 물체의 운동에너지를 계산해보자. 물체의 에너지를 계산하는 식은 1/2*무게*속도*2이다.\n"
      ],
      "metadata": {
        "id": "C5TvMaSCyq7A"
      }
    },
    {
      "cell_type": "code",
      "source": [
        "weight = int(input(\"물체의 무게를 입력하시오(킬로그램): \"))\n",
        "물체의 무게를 입력하시오(킬로그램): 100\n",
        "speed = int(input(\"물체의 속도를 입력하시오(미터/초): \"))\n",
        "물체의 속도를 입력하시오(미터/초): 100\n",
        "\n",
        "print(\"물체는\", 1/2 * weight* speed**2, \"(줄)의 에너지를 가지고 있다.\")\n",
        "물체는 500000.0 (줄)의 에너지를 가지고 있다.\n"
      ],
      "metadata": {
        "id": "Rr-W4XKU1ABg"
      },
      "execution_count": null,
      "outputs": []
    }
  ]
}